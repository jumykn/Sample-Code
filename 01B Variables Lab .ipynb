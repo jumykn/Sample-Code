{
 "cells": [
  {
   "cell_type": "markdown",
   "metadata": {},
   "source": [
    "<h1 style=\"text-align:center; font-size: 5em;\">Lab: Variables</h1>\n",
    "\n",
    "<hr style=\"border:2px solid\">\n",
    "<h1 style=\"text-align:center; font-size: 3em;\">Workbook Overview</h1>\n",
    "<hr style=\"border-top:1px dashed\">\n",
    "<ul>\n",
    "    <li><a href=\"#anchorSetup\">Lab Setup and Explanation</a></li> \n",
    "    <li><a href=\"#anchorSection1\">Section 1: Value & Variable Manipulation</li>\n",
    "</ul>\n",
    "\n",
    "<a name=\"anchorSetup\" style=\"position:absolute;\"></a>\n",
    "<hr style=\"border:2px solid\">\n",
    "\n",
    "# Lab Setup and Explanation\n",
    "<hr style=\"border-top:1px dashed\">\n",
    "Welcome to your First Python Lab! In this Lab, we'll delve into the fundamental concept of variables in Python. You've already gained a foundational understanding of Python programming, and now it's time to apply and expand that knowledge with a focus on variables.\n",
    "\n",
    "This lab is structured into several sections, each designed to enhance your understanding of how variables work in Python. You can easily navigate through these sections using the links provided in the Workbook Overview located above. Each section contains a series of tasks, designed to progressively challenge and build your skills.\n",
    "\n",
    "To make it easier for you, tasks are highlighted in yellow boxes. These tasks will range from basic to more complex applications of variables, ensuring a comprehensive learning experience.\n",
    "\n",
    "Let's start with an example task to get you warmed up:\n",
    "\n",
    "<div class=\"alert alert-block alert-warning\">\n",
    "    <b>Task 0: Print \"Hello World\"</b>\n",
    "</div>"
   ]
  },
  {
   "cell_type": "code",
   "execution_count": 1,
   "metadata": {},
   "outputs": [
    {
     "name": "stdout",
     "output_type": "stream",
     "text": [
      "Hello World\n"
     ]
    }
   ],
   "source": [
    "# Your solution goes here\n",
    "print(\"Hello World\")"
   ]
  },
  {
   "cell_type": "markdown",
   "metadata": {},
   "source": [
    "You are welcome to make as many extra code cells as you would like, just remember to clean up your notebook before submitting your work. \n",
    "\n",
    "The easier your work is to check, the more we can focus on giving feedback instead of hunting down answers.\n",
    "\n",
    "With that being said, we hope you have fun with this lab!~"
   ]
  },
  {
   "cell_type": "markdown",
   "metadata": {},
   "source": [
    "<a name=\"anchorSection1\" style=\"position:absolute;\"></a>\n",
    "<hr style=\"border:2px solid\">\n",
    "\n",
    "# Section 1: Value & Variable Manipulation\n",
    "<hr style=\"border-top:1px dashed\">\n",
    "Future lab sections will have different sections, but as this first one covers the basics it all falls under the same umbrella of value & variable manipulation.\n",
    "\n",
    "Please answer the tasks in the code cells provided below them.\n",
    "\n"
   ]
  },
  {
   "cell_type": "markdown",
   "metadata": {
    "id": "kDKuWh8lGmBe"
   },
   "source": [
    "<div class=\"alert alert-block alert-warning\">\n",
    "    <b>Task 1</b>\n",
    "    <div style=\"margin-left:45px; margin-top:10px; padding-top:7px; padding-bottom:5px;background-color: #f1f1f1; width:500px; outline: 2px solid black;\">\n",
    "&nbsp;&nbsp;&nbsp;&nbsp;&nbsp;&nbsp;&nbsp;<b>What are the types of the following variables?</b>\n",
    "                \n",
    "                   \n",
    "```python\n",
    "  a = 1\n",
    "  b = False\n",
    "  c = 2.6\n",
    "  d = 'integer'\n",
    "  e = True\n",
    "```"
   ]
  },
  {
   "cell_type": "code",
   "execution_count": 2,
   "metadata": {
    "id": "_1b6-zoYGmBf"
   },
   "outputs": [],
   "source": [
    "# Your Answers Go Here:\n",
    "# ---------------------\n",
    "#     a: integer\n",
    "#     b: boolean\n",
    "#     c: float\n",
    "#     d: string\n",
    "#     e: boolean"
   ]
  },
  {
   "cell_type": "markdown",
   "metadata": {},
   "source": [
    "<div class=\"alert alert-block alert-warning\">\n",
    "    <b>Task 2-4:</b> Use <code>3</code> different Arithmetic Operators on the numbers 7 and 4.\n",
    "</div>"
   ]
  },
  {
   "cell_type": "code",
   "execution_count": 2,
   "metadata": {},
   "outputs": [
    {
     "data": {
      "text/plain": [
       "28"
      ]
     },
     "execution_count": 2,
     "metadata": {},
     "output_type": "execute_result"
    }
   ],
   "source": [
    "# Method 1\n",
    "4*7"
   ]
  },
  {
   "cell_type": "code",
   "execution_count": 3,
   "metadata": {},
   "outputs": [
    {
     "data": {
      "text/plain": [
       "-3"
      ]
     },
     "execution_count": 3,
     "metadata": {},
     "output_type": "execute_result"
    }
   ],
   "source": [
    "# Method 2\n",
    "4-7"
   ]
  },
  {
   "cell_type": "code",
   "execution_count": 4,
   "metadata": {},
   "outputs": [
    {
     "data": {
      "text/plain": [
       "1.75"
      ]
     },
     "execution_count": 4,
     "metadata": {},
     "output_type": "execute_result"
    }
   ],
   "source": [
    "# Method 3\n",
    "7/4"
   ]
  },
  {
   "cell_type": "markdown",
   "metadata": {},
   "source": [
    "<div class=\"alert alert-block alert-warning\">\n",
    "    <b>Task 5:</b> Create the variable <code>word1</code> and assign it the value of <code>\"Python\"</code>\n",
    "</div>"
   ]
  },
  {
   "cell_type": "code",
   "execution_count": 6,
   "metadata": {},
   "outputs": [
    {
     "data": {
      "text/plain": [
       "'Python'"
      ]
     },
     "execution_count": 6,
     "metadata": {},
     "output_type": "execute_result"
    }
   ],
   "source": [
    "word1 = 'Python'\n",
    "word1"
   ]
  },
  {
   "cell_type": "markdown",
   "metadata": {},
   "source": [
    "<div class=\"alert alert-block alert-warning\">\n",
    "    <b>Task 6:</b> Create the variable <code>word2</code> and assign it the value of <code>\"Lab\"</code>\n",
    "</div>"
   ]
  },
  {
   "cell_type": "code",
   "execution_count": 7,
   "metadata": {},
   "outputs": [
    {
     "data": {
      "text/plain": [
       "'Lab'"
      ]
     },
     "execution_count": 7,
     "metadata": {},
     "output_type": "execute_result"
    }
   ],
   "source": [
    "word2 = 'Lab'\n",
    "word2"
   ]
  },
  {
   "cell_type": "markdown",
   "metadata": {},
   "source": [
    "<div class=\"alert alert-block alert-warning\">\n",
    "    <b>Task 7-8:</b> Using the two variables from the previous two tasks, create the following output using one <code>print()</code> statement in two different ways:\n",
    "    <div style=\"margin-left:45px; margin-top:10px; padding-top:7px; padding-bottom:5px;background-color: #f1f1f1; width:150px; outline: 2px solid black;\">\n",
    "                \n",
    "```\n",
    " Python Lab\n",
    "```"
   ]
  },
  {
   "cell_type": "code",
   "execution_count": 11,
   "metadata": {},
   "outputs": [
    {
     "name": "stdout",
     "output_type": "stream",
     "text": [
      "Python Lab\n"
     ]
    }
   ],
   "source": [
    "# Method 1\n",
    "print(word1+' '+word2)"
   ]
  },
  {
   "cell_type": "code",
   "execution_count": 15,
   "metadata": {},
   "outputs": [
    {
     "name": "stdout",
     "output_type": "stream",
     "text": [
      "Python Lab\n"
     ]
    }
   ],
   "source": [
    "# Method 2\n",
    "print('{} {}'.format(word1, word2))"
   ]
  },
  {
   "cell_type": "markdown",
   "metadata": {},
   "source": [
    "<div class=\"alert alert-block alert-warning\">\n",
    "    <b>Task 9: </b>Using formatting (<code>.format()</code> or <code>%</code>), print the following string using the provided variables.\n",
    "    <div style=\"margin-left:45px; margin-top:10px; padding-top:7px; padding-bottom:5px;background-color: #f1f1f1; width:400px; outline: 2px solid black;\">\n",
    "                \n",
    "```\n",
    " The diameter of Earth is 12742 kilometers.\n",
    "```"
   ]
  },
  {
   "cell_type": "code",
   "execution_count": 17,
   "metadata": {},
   "outputs": [],
   "source": [
    "# Given variables\n",
    "planet = \"Earth\"\n",
    "diameter = 12742"
   ]
  },
  {
   "cell_type": "code",
   "execution_count": 19,
   "metadata": {},
   "outputs": [
    {
     "name": "stdout",
     "output_type": "stream",
     "text": [
      "The diameter of the Earth is 12742 kilometers.\n"
     ]
    }
   ],
   "source": [
    "# Your solution goes here\n",
    "print('The diameter of the {} is {} kilometers.'.format(planet, diameter))"
   ]
  },
  {
   "cell_type": "markdown",
   "metadata": {},
   "source": [
    "<div class=\"alert alert-block alert-warning\">\n",
    "    <b>Task 10: </b> Assign the length of the string to the variable <code>sLen</code> \n",
    "    </div>"
   ]
  },
  {
   "cell_type": "code",
   "execution_count": 33,
   "metadata": {},
   "outputs": [],
   "source": [
    "# Given variables\n",
    "s = \"tacocat\""
   ]
  },
  {
   "cell_type": "code",
   "execution_count": 39,
   "metadata": {},
   "outputs": [
    {
     "data": {
      "text/plain": [
       "3.5"
      ]
     },
     "execution_count": 39,
     "metadata": {},
     "output_type": "execute_result"
    }
   ],
   "source": [
    "# Your solution goes here\n",
    "sLen = len(s)/2\n",
    "sLen"
   ]
  },
  {
   "cell_type": "markdown",
   "metadata": {},
   "source": [
    "<div class=\"alert alert-block alert-warning\">\n",
    "    <b>Task 11:</b> Cast the <code>sLen</code> variable from the previous task as an integer. Assign this to the same variable:\n",
    "</div>"
   ]
  },
  {
   "cell_type": "code",
   "execution_count": 40,
   "metadata": {},
   "outputs": [
    {
     "data": {
      "text/plain": [
       "3"
      ]
     },
     "execution_count": 40,
     "metadata": {},
     "output_type": "execute_result"
    }
   ],
   "source": [
    "sLen = int(sLen)\n",
    "sLen"
   ]
  },
  {
   "cell_type": "markdown",
   "metadata": {},
   "source": [
    "<div class=\"alert alert-block alert-warning\">\n",
    "    <b>Task 12:</b> Using the <code>sLen</code> variable, only print the first 4 letters of the variable <code>s</code>\n",
    "    <br>Hint: You need to make sLen negative. Refer to the `Deep-Dive into Strings` section of our lecture for help.\n"
   ]
  },
  {
   "cell_type": "code",
   "execution_count": 41,
   "metadata": {},
   "outputs": [
    {
     "name": "stdout",
     "output_type": "stream",
     "text": [
      "taco\n"
     ]
    }
   ],
   "source": [
    "print(s[:-sLen])"
   ]
  },
  {
   "cell_type": "markdown",
   "metadata": {},
   "source": [
    "<div class=\"alert alert-block alert-warning\">\n",
    "    <b>Task 13-14:</b> Use a string method to find how many occurrences of the key word are in the given string:\n",
    "<div style=\"margin-left:45px; margin-top:10px; padding-top:7px; padding-bottom:5px;background-color: #f1f1f1; width:400px; outline: 2px solid black;\">&nbsp;&nbsp;&nbsp;&nbsp;&nbsp;&nbsp;&nbsp;Example of Given Variables:\n",
    "   \n",
    "                \n",
    "```python\n",
    "  keyWord = \"is\"\n",
    "  phrase = \"How is your day?\"\n",
    "```\n",
    "    \n",
    "&nbsp;&nbsp;&nbsp;&nbsp;&nbsp;&nbsp;&nbsp;Example of Expected Output:\n",
    "    \n",
    "```\n",
    " Occurrences of the keyword in the phrase: 1\n",
    "```"
   ]
  },
  {
   "cell_type": "code",
   "execution_count": 46,
   "metadata": {},
   "outputs": [],
   "source": [
    "#Given Variables\n",
    "keyWord = \"wood\"\n",
    "phrase = \"How much wood would a woodchuck chuck if a woodchuck could chuck wood?\""
   ]
  },
  {
   "cell_type": "code",
   "execution_count": 51,
   "metadata": {},
   "outputs": [],
   "source": [
    "#Given Variables\n",
    "keyWord = \"can\"\n",
    "phrase = \"can you can a can as a canner can can a can?\""
   ]
  },
  {
   "cell_type": "code",
   "execution_count": 52,
   "metadata": {},
   "outputs": [
    {
     "data": {
      "text/plain": [
       "7"
      ]
     },
     "execution_count": 52,
     "metadata": {},
     "output_type": "execute_result"
    }
   ],
   "source": [
    "# Your solution goes here\n",
    "phrase.count(keyWord)"
   ]
  },
  {
   "cell_type": "markdown",
   "metadata": {},
   "source": [
    "<div class=\"alert alert-block alert-warning\">\n",
    "    <b>Task 15: <code>Split</code> the given string by each word.</b>\n",
    "    <div style=\"margin-left:45px; margin-top:10px; padding-top:7px; padding-bottom:5px;background-color: #f1f1f1; width:250px; outline: 2px solid black;\">\n",
    "                \n",
    "```\n",
    " ['Coding', 'is', 'Fun!']\n",
    "```"
   ]
  },
  {
   "cell_type": "code",
   "execution_count": 53,
   "metadata": {},
   "outputs": [],
   "source": [
    "# Given variables\n",
    "s = 'Coding is Fun!'"
   ]
  },
  {
   "cell_type": "code",
   "execution_count": 54,
   "metadata": {},
   "outputs": [
    {
     "data": {
      "text/plain": [
       "['Coding', 'is', 'Fun!']"
      ]
     },
     "execution_count": 54,
     "metadata": {},
     "output_type": "execute_result"
    }
   ],
   "source": [
    "# Your solution goes here\n",
    "s.split()"
   ]
  },
  {
   "cell_type": "markdown",
   "metadata": {},
   "source": [
    "<hr style=\"border:2px solid\">"
   ]
  }
 ],
 "metadata": {
  "colab": {
   "name": "00 Datatypes Review Activity Student.ipynb",
   "provenance": []
  },
  "kernelspec": {
   "display_name": "Python 3 (ipykernel)",
   "language": "python",
   "name": "python3"
  },
  "language_info": {
   "codemirror_mode": {
    "name": "ipython",
    "version": 3
   },
   "file_extension": ".py",
   "mimetype": "text/x-python",
   "name": "python",
   "nbconvert_exporter": "python",
   "pygments_lexer": "ipython3",
   "version": "3.11.5"
  },
  "latex_envs": {
   "LaTeX_envs_menu_present": true,
   "autoclose": false,
   "autocomplete": true,
   "bibliofile": "biblio.bib",
   "cite_by": "apalike",
   "current_citInitial": 1,
   "eqLabelWithNumbers": true,
   "eqNumInitial": 1,
   "hotkeys": {
    "equation": "Ctrl-E",
    "itemize": "Ctrl-I"
   },
   "labels_anchors": false,
   "latex_user_defs": false,
   "report_style_numbering": false,
   "user_envs_cfg": false
  },
  "toc": {
   "base_numbering": 1,
   "nav_menu": {},
   "number_sections": false,
   "sideBar": true,
   "skip_h1_title": false,
   "title_cell": "Table of Contents",
   "title_sidebar": "Contents",
   "toc_cell": false,
   "toc_position": {
    "height": "calc(100% - 180px)",
    "left": "10px",
    "top": "150px",
    "width": "274.286px"
   },
   "toc_section_display": true,
   "toc_window_display": false
  },
  "varInspector": {
   "cols": {
    "lenName": 16,
    "lenType": 16,
    "lenVar": 40
   },
   "kernels_config": {
    "python": {
     "delete_cmd_postfix": "",
     "delete_cmd_prefix": "del ",
     "library": "var_list.py",
     "varRefreshCmd": "print(var_dic_list())"
    },
    "r": {
     "delete_cmd_postfix": ") ",
     "delete_cmd_prefix": "rm(",
     "library": "var_list.r",
     "varRefreshCmd": "cat(var_dic_list()) "
    }
   },
   "types_to_exclude": [
    "module",
    "function",
    "builtin_function_or_method",
    "instance",
    "_Feature"
   ],
   "window_display": false
  }
 },
 "nbformat": 4,
 "nbformat_minor": 1
}
